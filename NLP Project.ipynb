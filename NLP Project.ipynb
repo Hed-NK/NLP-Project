{
 "cells": [
  {
   "cell_type": "markdown",
   "id": "3507ce4a-8013-47be-a9cb-6520ddfea5c4",
   "metadata": {},
   "source": [
    "### Requirements:\n",
    "1. Obtain data from an API or web-scraping.\n",
    "You are epxected to work on some form of text data.\n",
    "Your goal is to uncover underlying clusters (social communities, market patters) etc., using unsupervised learning.\n",
    "2. You can use any method; clustering, sentiment analysis, dimensionality reduction, pretrained models, word-embeddings, network embeddings, etc.\n",
    "3. Create a visualization in 2d or 3d of the data with the clusters you found tagged.\n",
    "4. Analyze the produced clusters and use them to provide a short explanation of what you found."
   ]
  },
  {
   "cell_type": "markdown",
   "id": "0dadc68d-5e5e-434f-8b16-a62dc89cfbe8",
   "metadata": {},
   "source": [
    "### Data Web-Scraping"
   ]
  },
  {
   "cell_type": "code",
   "execution_count": 1,
   "id": "e1e25544-987f-46b8-875e-23d817aa6ab6",
   "metadata": {},
   "outputs": [
    {
     "name": "stdout",
     "output_type": "stream",
     "text": [
      "Books found:\n",
      "Title: Core Python programming, Author: byWesley Chun\n",
      "Title: Black Hat Python: Python Programming for Hackers and Pentesters, Author: byJustin SeitzandTim Arnold\n",
      "Title: Python Programming: Python Programming for Intermediates, Author: byAdam Stewart\n",
      "Title: Python Programming: Python Programming for Beginners, Python Programming for Intermediates, Author: bySarah Stewart\n",
      "Title: Python Programming Crash Course: Python Programming for Beginners, Author: byAlex Jaxson\n",
      "Title: Core Python Programming, Author: byR. Nageswara Rao\n",
      "Title: Python Programming, Author: byReema Thareja\n",
      "Title: Python Programming: A Modular Approach, Author: byNaveen ,Kumar and Taneja Sheetal\n",
      "Title: Python programming: an introduction to computer science, Author: byJohn M. Zelle\n",
      "Title: Python Programming: Introduction, Author: byLogical Operations Staff\n",
      "Title: Python Programming: Python Programming for Complete Novices, Author: byScott Bernard\n",
      "Title: Python Programming: Explore Python Programming Exercises and Solutions, Author: byWen Mcrorie\n",
      "Title: Python Programming, Author: byVijaya Kumara Sarma,Vimal Kumar,Swati Sharma, andShashwat Pathak\n",
      "Title: Python programming in context, Author: byBradley N. Miller\n",
      "Title: Python Programming: Python Programming Programming for the Absolute Beginner, Author: bymoaml mohmmed\n",
      "Title: Python Programming: The Beginner's Guide to Python Programming, Author: byDavid Yang\n",
      "Title: Python Programming: Learn to Program Python, Author: byInfinity Solutions\n",
      "Title: Learning Python, Author: byMark LutzandDavid Ascher\n",
      "Title: Python Programming: Hand Book, Author: bySambath M\n",
      "Title: Python Programming: Master the Core Concepts of Python Programming, Author: byNicky Kamerad\n"
     ]
    }
   ],
   "source": [
    "import requests\n",
    "from bs4 import BeautifulSoup\n",
    "\n",
    "# URL of the page \n",
    "search_query = 'python programming'\n",
    "url = f'https://openlibrary.org/search?q={search_query}'\n",
    "\n",
    "# Send a GET request to the webpage\n",
    "response = requests.get(url)\n",
    "\n",
    "# Check if the request was successful\n",
    "if response.status_code == 200:\n",
    "    # Parse the content of the page with BeautifulSoup\n",
    "    soup = BeautifulSoup(response.text, 'html.parser')\n",
    "    \n",
    "    # Example: Extract the titles and authors of the books\n",
    "    book_titles = soup.find_all('h3', class_='booktitle')\n",
    "    book_authors = soup.find_all('span', class_='bookauthor')\n",
    "\n",
    "    print(\"Books found:\")\n",
    "    for title, author in zip(book_titles, book_authors):\n",
    "        print(f\"Title: {title.get_text(strip=True)}, Author: {author.get_text(strip=True)}\")\n",
    "else:\n",
    "    print(f\"Failed to retrieve the page. Status code: {response.status_code}\")"
   ]
  },
  {
   "cell_type": "code",
   "execution_count": 2,
   "id": "eaff4ade-bf9b-4ac0-b3c1-f9daf64eda45",
   "metadata": {},
   "outputs": [
    {
     "name": "stdout",
     "output_type": "stream",
     "text": [
      "Title: Core Python programming, Author: byWesley Chun\n",
      "Title: Black Hat Python: Python Programming for Hackers and Pentesters, Author: byJustin SeitzandTim Arnold\n",
      "Title: Python Programming: Python Programming for Intermediates, Author: byAdam Stewart\n",
      "Title: Python Programming: Python Programming for Beginners, Python Programming for Intermediates, Author: bySarah Stewart\n",
      "Title: Python Programming Crash Course: Python Programming for Beginners, Author: byAlex Jaxson\n",
      "Title: Core Python Programming, Author: byR. Nageswara Rao\n",
      "Title: Python Programming, Author: byReema Thareja\n",
      "Title: Python Programming: A Modular Approach, Author: byNaveen ,Kumar and Taneja Sheetal\n",
      "Title: Python programming: an introduction to computer science, Author: byJohn M. Zelle\n",
      "Title: Python Programming: Introduction, Author: byLogical Operations Staff\n",
      "Title: Python Programming: Python Programming for Complete Novices, Author: byScott Bernard\n",
      "Title: Python Programming: Explore Python Programming Exercises and Solutions, Author: byWen Mcrorie\n",
      "Title: Python Programming, Author: byVijaya Kumara Sarma,Vimal Kumar,Swati Sharma, andShashwat Pathak\n",
      "Title: Python programming in context, Author: byBradley N. Miller\n",
      "Title: Python Programming: Python Programming Programming for the Absolute Beginner, Author: bymoaml mohmmed\n",
      "Title: Python Programming: The Beginner's Guide to Python Programming, Author: byDavid Yang\n",
      "Title: Python Programming: Learn to Program Python, Author: byInfinity Solutions\n",
      "Title: Learning Python, Author: byMark LutzandDavid Ascher\n",
      "Title: Python Programming: Hand Book, Author: bySambath M\n",
      "Title: Python Programming: Master the Core Concepts of Python Programming, Author: byNicky Kamerad\n"
     ]
    }
   ],
   "source": [
    "import requests\n",
    "from bs4 import BeautifulSoup\n",
    "\n",
    "# URL of the page\n",
    "search_query = 'python programming'\n",
    "url = f'https://openlibrary.org/search?q={search_query}'\n",
    "\n",
    "# Send a GET request to the webpage\n",
    "response = requests.get(url)\n",
    "\n",
    "# Check if the request was successful\n",
    "if response.status_code == 200:\n",
    "    # Parse the content of the page with BeautifulSoup\n",
    "    soup = BeautifulSoup(response.text, 'html.parser')\n",
    "    \n",
    "    # Extract book titles and authors\n",
    "    book_titles = soup.find_all('h3', class_='booktitle')\n",
    "    book_authors = soup.find_all('span', class_='bookauthor')\n",
    "\n",
    "    books = [{'title': title.get_text(strip=True), 'author': author.get_text(strip=True)} for title, author in zip(book_titles, book_authors)]\n",
    "\n",
    "    for book in books:\n",
    "        print(f\"Title: {book['title']}, Author: {book['author']}\")\n",
    "else:\n",
    "    print(f\"Failed to retrieve the page. Status code: {response.status_code}\")"
   ]
  },
  {
   "cell_type": "markdown",
   "id": "bbbf6e57-73bd-4aca-a52a-2689e8e3db9c",
   "metadata": {},
   "source": [
    "### TF-IDF vectorization and K-means clustering"
   ]
  },
  {
   "cell_type": "code",
   "execution_count": 3,
   "id": "7edf4586-6c6f-4f3e-b41e-dafdfcd534d6",
   "metadata": {},
   "outputs": [
    {
     "name": "stderr",
     "output_type": "stream",
     "text": [
      "E:\\New folder\\Lib\\site-packages\\sklearn\\cluster\\_kmeans.py:870: FutureWarning: The default value of `n_init` will change from 10 to 'auto' in 1.4. Set the value of `n_init` explicitly to suppress the warning\n",
      "  warnings.warn(\n"
     ]
    },
    {
     "name": "stdout",
     "output_type": "stream",
     "text": [
      "Cluster 0:\n",
      " - Python Programming: Python Programming for Intermediates\n",
      " - Python Programming: Python Programming for Beginners, Python Programming for Intermediates\n",
      " - Python Programming Crash Course: Python Programming for Beginners\n",
      " - Python Programming\n",
      " - Python Programming: A Modular Approach\n",
      " - Python Programming: Python Programming for Complete Novices\n",
      " - Python Programming: Explore Python Programming Exercises and Solutions\n",
      " - Python Programming\n",
      " - Python programming in context\n",
      " - Python Programming: Python Programming Programming for the Absolute Beginner\n",
      " - Python Programming: The Beginner's Guide to Python Programming\n",
      " - Python Programming: Learn to Program Python\n",
      " - Python Programming: Hand Book\n",
      "Cluster 1:\n",
      " - Learning Python\n",
      "Cluster 2:\n",
      " - Python programming: an introduction to computer science\n",
      " - Python Programming: Introduction\n",
      "Cluster 3:\n",
      " - Core Python programming\n",
      " - Core Python Programming\n",
      " - Python Programming: Master the Core Concepts of Python Programming\n",
      "Cluster 4:\n",
      " - Black Hat Python: Python Programming for Hackers and Pentesters\n"
     ]
    }
   ],
   "source": [
    "from sklearn.feature_extraction.text import TfidfVectorizer\n",
    "from sklearn.cluster import KMeans\n",
    "import pandas as pd\n",
    "\n",
    "# Titles Extraction\n",
    "titles = [book['title'] for book in books]\n",
    "\n",
    "# Titles Vectorization \n",
    "vectorizer = TfidfVectorizer(stop_words='english')\n",
    "X = vectorizer.fit_transform(titles)\n",
    "\n",
    "# K-Means clustering\n",
    "kmeans = KMeans(n_clusters=5, random_state=42)\n",
    "kmeans.fit(X)\n",
    "\n",
    "# cluster labeling\n",
    "df = pd.DataFrame(books)\n",
    "df['cluster'] = kmeans.labels_\n",
    "\n",
    "# Printing\n",
    "for cluster in range(5):\n",
    "    print(f\"Cluster {cluster}:\")\n",
    "    TitlesOfCluster = df[df['cluster'] == cluster]['title'].values\n",
    "    for title in TitlesOfCluster:\n",
    "        print(f\" - {title}\")"
   ]
  },
  {
   "cell_type": "markdown",
   "id": "b221b076-1c2a-45e6-a83a-82d46ab3805a",
   "metadata": {},
   "source": [
    "### Visualization"
   ]
  },
  {
   "cell_type": "code",
   "execution_count": 4,
   "id": "171f09d3-857b-4ae4-9671-07bfe73b25e5",
   "metadata": {},
   "outputs": [
    {
     "data": {
      "image/png": "[encoded data removed]",
      "text/plain": [
       "<Figure size 640x480 with 2 Axes>"
      ]
     },
     "metadata": {},
     "output_type": "display_data"
    }
   ],
   "source": [
    "import matplotlib.pyplot as plt\n",
    "from sklearn.decomposition import PCA\n",
    "\n",
    "# Dimensionality reduction\n",
    "pca = PCA(n_components=2)\n",
    "reduced_X = pca.fit_transform(X.toarray())\n",
    "\n",
    "# Plotting\n",
    "plt.scatter(reduced_X[:, 0], reduced_X[:, 1], c=kmeans.labels_, cmap='viridis')\n",
    "plt.title('Book Clusters')\n",
    "plt.xlabel('PCA Component 1')\n",
    "plt.ylabel('PCA Component 2')\n",
    "plt.colorbar(label='Cluster')\n",
    "plt.show()"
   ]
  },
  {
   "cell_type": "markdown",
   "id": "57066bcb-e3dc-4d47-9ba8-cd19b97f08cc",
   "metadata": {},
   "source": [
    "### Analysis and Interpretation"
   ]
  },
  {
   "cell_type": "markdown",
   "id": "3a0c8f0d-d1ce-40fa-9c54-811b58837a8b",
   "metadata": {},
   "source": [
    "There are 5 clusters:\n",
    "\n",
    "The first cluster includes Python Programming for Beginners, Intermediates.\n",
    "The second cluster includes Learning Python.\n",
    "The third cluster includes introduction to Python programming.\n",
    "The fourth cluster includes Core Python programming.\n",
    "The fifth cluster includes Python Programming for Hackers.\n",
    "\n",
    "The variety within the category of the first cluster is the most and the the second and the fifth clusters are the leasts, therefore the distribution and popularity of the topics in the first cluster is the highest and vice versa for the second and the fifth clusters."
   ]
  }
 ],
 "metadata": {
  "kernelspec": {
   "display_name": "Python 3 (ipykernel)",
   "language": "python",
   "name": "python3"
  },
  "language_info": {
   "codemirror_mode": {
    "name": "ipython",
    "version": 3
   },
   "file_extension": ".py",
   "mimetype": "text/x-python",
   "name": "python",
   "nbconvert_exporter": "python",
   "pygments_lexer": "ipython3",
   "version": "3.11.7"
  }
 },
 "nbformat": 4,
 "nbformat_minor": 5
}
